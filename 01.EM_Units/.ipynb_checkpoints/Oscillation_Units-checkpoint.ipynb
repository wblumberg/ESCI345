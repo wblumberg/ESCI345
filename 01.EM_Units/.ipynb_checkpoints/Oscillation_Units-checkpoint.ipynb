{
 "cells": [
  {
   "cell_type": "code",
   "execution_count": 3,
   "id": "1a676511-8cd1-4b6c-bfa7-559e3d294933",
   "metadata": {},
   "outputs": [],
   "source": [
    "import pint\n",
    "import numpy as np\n",
    "\n",
    "ureg = pint.UnitRegistry()"
   ]
  },
  {
   "cell_type": "markdown",
   "id": "e43d2571-52dd-4a52-a154-057e46cdcbca",
   "metadata": {},
   "source": [
    "# Using Python to Work with EM Units\n",
    "\n",
    "The pint package can help us convert between different electromagnetic units.  It allows us to do spectroscopic calculations.  We use the command ureg.Unit() and multiply our unit by the number (or array of numbers).  Some examples:"
   ]
  },
  {
   "cell_type": "code",
   "execution_count": 13,
   "id": "e3aa07bb-c63d-40ce-93a0-edc99d7cb213",
   "metadata": {},
   "outputs": [
    {
     "name": "stdout",
     "output_type": "stream",
     "text": [
      "405 nanometer\n",
      "[10 20 30 40 50 60 70 80 90] hertz\n",
      "1000.0 / centimeter\n"
     ]
    }
   ],
   "source": [
    "wavelength = 405 * ureg.Unit(\"nanometer\")\n",
    "print(wavelength)\n",
    "\n",
    "frequencies = np.arange(10,100,10) * ureg.Unit(\"Hz\")\n",
    "print(frequencies)\n",
    "\n",
    "wavenumbers = 1./ (0.001 * ureg.Unit(\"centimeter\"))\n",
    "print(wavenumbers)"
   ]
  },
  {
   "cell_type": "markdown",
   "id": "af35f8e4-5e28-4c58-824b-598082599e0c",
   "metadata": {},
   "source": [
    "Once we have our initial variable with these units, we can convert them to other spectroscopic units.  Here are some examples:"
   ]
  },
  {
   "cell_type": "code",
   "execution_count": 21,
   "id": "95a9ebf4-98bc-4f33-885b-9d2299828fac",
   "metadata": {},
   "outputs": [
    {
     "name": "stdout",
     "output_type": "stream",
     "text": [
      "Wavelength to frequency: 405 nanometer 740228.2913580246 gigahertz\n",
      "Frequencies to wavenumbers: [10 20 30 40 50 60 70 80 90] hertz [3.33564095198152e-10 6.67128190396304e-10 1.0006922855944562e-09 1.334256380792608e-09 1.66782047599076e-09 2.0013845711889123e-09 2.3349486663870643e-09 2.668512761585216e-09 3.002076856783368e-09] / centimeter\n",
      "Wavenumbers to wavelength: 1000.0 / centimeter 1e-05 meter\n"
     ]
    }
   ],
   "source": [
    "# Converts from wavelength to frequency\n",
    "new_freq = wavelength.to(\"gigahertz\", \"spectroscopy\")\n",
    "print(\"Wavelength to frequency:\", wavelength, new_freq)\n",
    "\n",
    "# Converts from frequencies to wavenumbers\n",
    "new_wnum = frequencies.to(\"centimeter ** -1\", \"spectroscopy\")\n",
    "print(\"Frequencies to wavenumbers:\", frequencies, new_wnum)\n",
    "\n",
    "# Converts from wavenumbers to wavelength\n",
    "new_wlen = wavenumbers.to(\"meter\", \"spectroscopy\")\n",
    "print(\"Wavenumbers to wavelength:\", wavenumbers, new_wlen)"
   ]
  },
  {
   "cell_type": "markdown",
   "id": "6f04b06c-b184-4b02-a2b4-b98b45cecc6a",
   "metadata": {},
   "source": [
    "We can also work with more complicated units here, like those for spectral intensity or flux."
   ]
  },
  {
   "cell_type": "code",
   "execution_count": 30,
   "id": "69f83b00-b96b-4efc-910d-6c49899ca19f",
   "metadata": {},
   "outputs": [
    {
     "name": "stdout",
     "output_type": "stream",
     "text": [
      "100 milliwatt / meter ** 2 / micrometer / steradian\n",
      "200 milliwatt / hertz / meter ** 2\n"
     ]
    }
   ],
   "source": [
    "spectral_intensity = 100 * ureg.Unit(\"mW / (meter ** 2 micrometer steradian)\")\n",
    "print(spectral_intensity)\n",
    "\n",
    "spectral_flux = 200 * ureg.Unit(\"mW meter ** -2 Hz ** -1\")\n",
    "print(spectral_flux)"
   ]
  },
  {
   "cell_type": "markdown",
   "id": "7b45f11b-30c1-4e96-bf41-0fe458cbd5d9",
   "metadata": {},
   "source": [
    "But we can only convert between wavelength if we've specificed wavelength."
   ]
  },
  {
   "cell_type": "code",
   "execution_count": 34,
   "id": "4346d132-4ccd-42de-8aac-0caf9f409b62",
   "metadata": {},
   "outputs": [
    {
     "data": {
      "text/html": [
       "0.1 milliwatt/(meter<sup>2</sup> nanometer steradian)"
      ],
      "text/latex": [
       "$0.1\\ \\frac{\\mathrm{milliwatt}}{\\left(\\mathrm{meter}^{2} \\cdot \\mathrm{nanometer} \\cdot \\mathrm{steradian}\\right)}$"
      ],
      "text/plain": [
       "0.1 <Unit('milliwatt / meter ** 2 / nanometer / steradian')>"
      ]
     },
     "execution_count": 34,
     "metadata": {},
     "output_type": "execute_result"
    }
   ],
   "source": [
    "spectral_intensity.to(\"mW / (meter ** 2 nanometer steradian)\", \"spectroscopy\")"
   ]
  }
 ],
 "metadata": {
  "kernelspec": {
   "display_name": "Python 3 (ipykernel)",
   "language": "python",
   "name": "python3"
  },
  "language_info": {
   "codemirror_mode": {
    "name": "ipython",
    "version": 3
   },
   "file_extension": ".py",
   "mimetype": "text/x-python",
   "name": "python",
   "nbconvert_exporter": "python",
   "pygments_lexer": "ipython3",
   "version": "3.10.8"
  }
 },
 "nbformat": 4,
 "nbformat_minor": 5
}
