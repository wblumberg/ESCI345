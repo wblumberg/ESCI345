{
 "cells": [
  {
   "cell_type": "code",
   "execution_count": 1,
   "id": "d8c23945-bb75-4e9f-83b7-9b73d3074322",
   "metadata": {
    "tags": []
   },
   "outputs": [
    {
     "name": "stderr",
     "output_type": "stream",
     "text": [
      "<frozen importlib._bootstrap>:228: RuntimeWarning: numpy.ndarray size changed, may indicate binary incompatibility. Expected 16 from C header, got 96 from PyObject\n"
     ]
    }
   ],
   "source": [
    "import miepython\n",
    "import matplotlib.pyplot as plt\n",
    "import numpy as np\n",
    "from scipy import stats\n",
    "import pint\n",
    "\n",
    "ureg = pint.UnitRegistry()"
   ]
  },
  {
   "cell_type": "markdown",
   "id": "51a06348-2246-4439-9bb2-6e01bf27b1f2",
   "metadata": {},
   "source": [
    "## For a Monodisperse Cloud\n",
    "\n",
    "What this means is that it's a cloud consisting of droplets of a uniform size.\n",
    "\n",
    "Using Chapter 7.4.4 from Petty book."
   ]
  },
  {
   "cell_type": "code",
   "execution_count": 61,
   "id": "a351a840-5ba8-4bb2-8ab1-a9777d414b8d",
   "metadata": {
    "tags": []
   },
   "outputs": [],
   "source": [
    "# For a monodisperse cloud\n",
    "m = 1.33-0j # \n",
    "r = 1 * ureg.millimeter # radius of rain drops\n",
    "r = 10 * ureg.micrometer # radius of fog droplets\n",
    "wavelength = 0.4 * ureg.micrometer # Visible light\n",
    "\n",
    "x = (2 * np.pi * r)/(wavelength)\n",
    "\n",
    "N = 3000 * (1./(ureg.meter**3)) # number concentration\n",
    "Qe, _, _, _ = miepython.mie(m=m, x=x.to_base_units().magnitude)\n",
    "\n",
    "Beta_e = N * Qe * np.pi * r**2\n",
    "\n",
    "# Cloud water density\n",
    "rho_l = 1000 * ureg.kilogram / (ureg.meter ** 3) # kg/m3 (density of pure water)\n",
    "rho_w = N * (4./3.) * np.pi * r **3 * rho_l\n",
    "\n",
    "mass_extinction_coeff = 3. * Qe / (4. * rho_l * r)"
   ]
  },
  {
   "cell_type": "code",
   "execution_count": 62,
   "id": "61450946-588b-414f-8698-d4c773182633",
   "metadata": {
    "tags": []
   },
   "outputs": [
    {
     "name": "stdout",
     "output_type": "stream",
     "text": [
      "Size Parameter: 157.07963267948963\n",
      "Volume Extinction Coefficient:  1.959121541412607e-06 / meter\n",
      "Extinction Efficiency:  2.0786925162241983\n",
      "Mass Extinction Coefficient:  155.90193871681487 meter ** 2 / kilogram\n"
     ]
    }
   ],
   "source": [
    "print(\"Size Parameter:\", x.to_base_units().magnitude)\n",
    "print(\"Volume Extinction Coefficient: \", Beta_e.to_base_units())\n",
    "print(\"Extinction Efficiency: \", Qe)\n",
    "print(\"Mass Extinction Coefficient: \", mass_extinction_coeff.to_base_units())"
   ]
  },
  {
   "cell_type": "code",
   "execution_count": 63,
   "id": "9cbd16ad-88fa-4372-8918-9ee4cbf004c8",
   "metadata": {
    "tags": []
   },
   "outputs": [
    {
     "name": "stdout",
     "output_type": "stream",
     "text": [
      "Liquid Water Path: 0.5 kilogram / meter ** 2\n",
      "Cloud Optical Depth: 77.95096935840743 dimensionless\n"
     ]
    }
   ],
   "source": [
    "LWP = 0.5 * ureg.kilogram / (ureg.meter ** 2)\n",
    "print(\"Liquid Water Path:\", LWP)\n",
    "\n",
    "Cloud_Optical_Depth = mass_extinction_coeff * LWP\n",
    "print(\"Cloud Optical Depth:\", Cloud_Optical_Depth.to_base_units())"
   ]
  },
  {
   "cell_type": "markdown",
   "id": "bb3a4063-2e2b-4d93-839e-954998fb521b",
   "metadata": {},
   "source": [
    "# For a polydisperse cloud\n"
   ]
  },
  {
   "cell_type": "code",
   "execution_count": 20,
   "id": "0d30b643-3f02-4df3-be69-b8f3c26f1d14",
   "metadata": {},
   "outputs": [
    {
     "name": "stdout",
     "output_type": "stream",
     "text": [
      "(60,) (60,)\n",
      "Volume Extinction Coefficient:  [1.5261318751948603e-06 1.1230931989159297e-05 3.351879335412369e-05 4.865973826265157e-05 9.948695190842516e-05 0.00010478758683784383 0.00013831513886125932 0.0001593741509594462 0.00016824888272263866 0.00026129468269359406 0.00022891752821991123 0.00026630424454481905 0.0003539120370928847 0.0002751924435542883 0.00030420396018515644 0.00033247542922392825 0.0002911498935470982 0.00021188087501180388 0.00027987356082000137 0.0003826200846043273 0.00037005699759280807 0.000406986766147725 0.0003502443668628529 0.0002778202211467121 0.0004907277685513124 0.000204458790795971 0.00030911752195362423 0.0002853439536272462 0.0002553622082484731 0.0001641710652131863 0.00035094345270726137 0.0004991654125329746 0.00019922520878571742 7.056763250802053e-05 0.0002993437857155895 0.00023771851779773236 0.0003350475755446853 0.0 9.319363591089587e-05 9.809197040123062e-05 0.00030939145795887325 0.00021654390500214807 0.00022712465455409746 0.00011896069610784808 0.0 0.0002602891476937993 0.0 0.00014184281509371877 0.0001478762646053146 0.00015404243818047654 0.0 0.0 0.00017326572840126305 0.0 0.00018670912451414137 0.0001936464060209368 0.0 0.0 0.00043025435438359693 0.0] / meter\n",
      "Extinction Efficiency:  [2.02409526 2.01120489 2.00835074 2.00698098 2.00491803 2.0048039\n",
      " 2.00396341 2.00416268 2.00337726 2.00343685 2.00279564 2.00300741\n",
      " 2.00273245 2.0026629  2.00240145 2.00227445 2.00239593 2.00204162\n",
      " 2.00228176 2.00183688 2.00208721 2.00182201 2.00199766 2.00165059\n",
      " 2.0017749  2.00173024 2.00163074 2.00171463 2.00146052 2.00161919\n",
      " 2.00141128 2.00162869 2.00127348 2.00154824 2.00134607 2.00140592\n",
      " 2.00129397 2.00129554 2.00131257 2.00119493 2.00136889 2.00110512\n",
      " 2.00127399 2.00112911 2.00128754 2.00102908 2.00119135 2.00110672\n",
      " 2.00108309 2.00115217 2.00105306 2.00109272 2.00098664 2.00117286\n",
      " 2.00088747 2.00112216 2.00095851 2.00103566 2.00093819 2.00098746]\n",
      "Mass Extinction Coefficient:  [30.361428968420686 10.056024425336673 6.025052215097851 4.300673538280622 3.3415300557922407 2.73382349619519 2.3122654725896834 2.004162680594157 1.7676858211802016 1.5816606687873305 1.4305683139098397 1.3063091832105547 1.2016394692918362 1.112590501783325 1.0357248860572799 0.9688424756272538 0.9101799666809033 0.8580178388702373 0.8117358494110016 0.7699372602920382 0.732470929150448 0.6983100025916389 0.6673325525035754 0.6388246557080229 0.612788235755224 0.5887441882311419 0.5664992667799987 0.5459221722153064 0.5267001373262244 0.5088862355224341 0.49215031429148215 0.4765782602378433 0.46183234252907523 0.4481078138977383 0.43507523246374213 0.42283223675145837 0.41122478826548875 0.4002591078609162 0.3898660859983951 0.3799737213562353 0.3706238689492378 0.3616455030720915 0.3531659984888135 0.34502226084103166 0.3372956534271261 0.32983995792283316 0.32277279809727794 0.31596421865673774 0.30944583847096463 0.303204873743255 0.297186098567128 0.29142127055887596 0.2858552343995212 0.28053825187723336 0.275351487141546 0.2704219140707888 0.265613961934182 0.26100465105527404 0.25653053747801063 0.25222530957177536] meter ** 2 / kilogram\n",
      "Liquid Water Path: 0.5 kilogram / meter ** 2\n",
      "Cloud Optical Depth: [15.180714484210343 5.028012212668337 3.0125261075489256 2.150336769140311 1.6707650278961204 1.366911748097595 1.1561327362948417 1.0020813402970785 0.8838429105901008 0.7908303343936652 0.7152841569549199 0.6531545916052773 0.6008197346459181 0.5562952508916625 0.5178624430286399 0.4844212378136269 0.45508998334045164 0.42900891943511865 0.4058679247055008 0.3849686301460191 0.366235464575224 0.34915500129581944 0.3336662762517877 0.31941232785401147 0.306394117877612 0.29437209411557097 0.28324963338999937 0.2729610861076532 0.2633500686631122 0.25444311776121703 0.24607515714574107 0.23828913011892164 0.23091617126453762 0.22405390694886915 0.21753761623187107 0.21141611837572918 0.20561239413274437 0.2001295539304581 0.19493304299919756 0.18998686067811765 0.1853119344746189 0.18082275153604574 0.17658299924440676 0.17251113042051583 0.16864782671356304 0.16491997896141658 0.16138639904863897 0.15798210932836887 0.15472291923548231 0.1516024368716275 0.148593049283564 0.14571063527943798 0.1429276171997606 0.14026912593861668 0.137675743570773 0.1352109570353944 0.132806980967091 0.13050232552763702 0.12826526873900532 0.12611265478588768] dimensionless\n"
     ]
    },
    {
     "data": {
      "image/png": "[encoded data removed]",
      "text/plain": [
       "<Figure size 432x288 with 1 Axes>"
      ]
     },
     "metadata": {
      "needs_background": "light"
     },
     "output_type": "display_data"
    }
   ],
   "source": [
    "radius = stats.gamma.rvs(loc=0, a=1, size=1000)\n",
    "r_bins = np.arange(0, 6.1, .1)\n",
    "N, r_bins, _ = plt.hist(radius, bins=r_bins)\n",
    "r_bins = (r_bins[1:] + r_bins[:-1])/2.\n",
    "\n",
    "print(r_bins.shape, N.shape)\n",
    "# For a monodisperse cloud\n",
    "m = 1.33-0j # \n",
    "r = r_bins * ureg.millimeter # radius of rain drops\n",
    "wavelength = 0.4 * ureg.micrometer # Visible light\n",
    "\n",
    "x = (2 * np.pi * r)/(wavelength)\n",
    "\n",
    "N = N * (1./(ureg.meter**3)) # number concentration\n",
    "Qe, _, _, _ = miepython.mie(m=m, x=x.to_base_units().magnitude)\n",
    "\n",
    "Beta_e = N * Qe * np.pi * r**2\n",
    "\n",
    "# Cloud water density\n",
    "rho_l = 1000 * ureg.kilogram / (ureg.meter ** 3) # kg/m3 (density of pure water)\n",
    "rho_w = N * (4./3.) * np.pi * r **3 * rho_l\n",
    "\n",
    "mass_extinction_coeff = 3. * Qe / (4. * rho_l * r)\n",
    "\n",
    "print(\"Volume Extinction Coefficient: \", Beta_e.to_base_units())\n",
    "print(\"Extinction Efficiency: \", Qe)\n",
    "print(\"Mass Extinction Coefficient: \", mass_extinction_coeff.to_base_units())\n",
    "\n",
    "LWP = 0.5 * ureg.kilogram / (ureg.meter ** 2)\n",
    "print(\"Liquid Water Path:\", LWP)\n",
    "\n",
    "Cloud_Optical_Depth = mass_extinction_coeff * LWP\n",
    "print(\"Cloud Optical Depth:\", Cloud_Optical_Depth.to_base_units())"
   ]
  },
  {
   "cell_type": "code",
   "execution_count": 16,
   "id": "2a4b7606-6e30-4d4b-9df7-42deaa26803f",
   "metadata": {},
   "outputs": [
    {
     "data": {
      "text/plain": [
       "(array([0.2, 0.3, 0.4, 0.5, 0.6, 0.7, 0.8, 0.9, 1. , 1.1, 1.2, 1.3, 1.4,\n",
       "        1.5, 1.6, 1.7, 1.8, 1.9, 2. , 2.1, 2.2, 2.3, 2.4, 2.5, 2.6, 2.7,\n",
       "        2.8, 2.9, 3. , 3.1, 3.2, 3.3, 3.4, 3.5, 3.6, 3.7, 3.8, 3.9, 4. ,\n",
       "        4.1, 4.2, 4.3, 4.4, 4.5, 4.6, 4.7, 4.8, 4.9, 5. , 5.1, 5.2, 5.3,\n",
       "        5.4, 5.5, 5.6, 5.7, 5.8, 5.9, 6. ]),\n",
       " array([0.1, 0.2, 0.3, 0.4, 0.5, 0.6, 0.7, 0.8, 0.9, 1. , 1.1, 1.2, 1.3,\n",
       "        1.4, 1.5, 1.6, 1.7, 1.8, 1.9, 2. , 2.1, 2.2, 2.3, 2.4, 2.5, 2.6,\n",
       "        2.7, 2.8, 2.9, 3. , 3.1, 3.2, 3.3, 3.4, 3.5, 3.6, 3.7, 3.8, 3.9,\n",
       "        4. , 4.1, 4.2, 4.3, 4.4, 4.5, 4.6, 4.7, 4.8, 4.9, 5. , 5.1, 5.2,\n",
       "        5.3, 5.4, 5.5, 5.6, 5.7, 5.8, 5.9]))"
      ]
     },
     "execution_count": 16,
     "metadata": {},
     "output_type": "execute_result"
    }
   ],
   "source": [
    "(r_bins[1:], r_bins[:-1])\n"
   ]
  },
  {
   "cell_type": "code",
   "execution_count": null,
   "id": "a46158a2-ae02-4f7c-807e-233f342a3028",
   "metadata": {},
   "outputs": [],
   "source": []
  }
 ],
 "metadata": {
  "kernelspec": {
   "display_name": "Python 3 (ipykernel)",
   "language": "python",
   "name": "python3"
  },
  "language_info": {
   "codemirror_mode": {
    "name": "ipython",
    "version": 3
   },
   "file_extension": ".py",
   "mimetype": "text/x-python",
   "name": "python",
   "nbconvert_exporter": "python",
   "pygments_lexer": "ipython3",
   "version": "3.9.13"
  }
 },
 "nbformat": 4,
 "nbformat_minor": 5
}
